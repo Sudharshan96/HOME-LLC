{
 "cells": [
  {
   "cell_type": "markdown",
   "id": "86d03920",
   "metadata": {},
   "source": [
    "IMPORTING THE LIBRARIES"
   ]
  },
  {
   "cell_type": "code",
   "execution_count": 44,
   "id": "7682a168",
   "metadata": {},
   "outputs": [],
   "source": [
    "import pandas as pd\n",
    "import numpy as np\n",
    "import matplotlib.pyplot as plt\n",
    "from pandas.plotting import lag_plot\n",
    "from pandas.plotting import autocorrelation_plot\n",
    "from matplotlib import pyplot\n",
    "import seaborn as sns"
   ]
  },
  {
   "cell_type": "markdown",
   "id": "531c0829",
   "metadata": {},
   "source": [
    "READING THE DATASET"
   ]
  },
  {
   "cell_type": "code",
   "execution_count": 45,
   "id": "7ec6b0fc",
   "metadata": {},
   "outputs": [],
   "source": [
    "df = pd.read_excel('MONTHLY.xlsx')"
   ]
  },
  {
   "cell_type": "markdown",
   "id": "04efa7a0",
   "metadata": {},
   "source": [
    "COLUMNS"
   ]
  },
  {
   "cell_type": "code",
   "execution_count": 46,
   "id": "929cd517",
   "metadata": {},
   "outputs": [
    {
     "data": {
      "text/plain": [
       "Index(['MONTH ', 'GDP GROWTH', 'UNEMPLOYMENT RATE', 'INFLATION RATE',\n",
       "       'MORTGAGE INTEREST RATES', 'HOUSING STARTS', 'EXISTING HOME SALES',\n",
       "       'CONSUMER CONFIDENCE INDEX', 'HOUSING CREDIT AVAILABILITY INDEX',\n",
       "       'INTEREST RATE POLICY RATE', 'HOME PRICE INDEX'],\n",
       "      dtype='object')"
      ]
     },
     "execution_count": 46,
     "metadata": {},
     "output_type": "execute_result"
    }
   ],
   "source": [
    "df.columns"
   ]
  },
  {
   "cell_type": "markdown",
   "id": "6b67ee06",
   "metadata": {},
   "source": [
    "PERFORMING LJUNG BOX TEST FOR NOISE DETECTION"
   ]
  },
  {
   "cell_type": "code",
   "execution_count": 74,
   "id": "ad17df2b",
   "metadata": {},
   "outputs": [
    {
     "name": "stdout",
     "output_type": "stream",
     "text": [
      "Column: GDP GROWTH\n",
      "Result: Not White Noise\n",
      "\n",
      "Column: UNEMPLOYMENT RATE\n",
      "Result: Not White Noise\n",
      "\n",
      "Column: INFLATION RATE\n",
      "Result: Not White Noise\n",
      "\n",
      "Column: MORTGAGE INTEREST RATES\n",
      "Result: Not White Noise\n",
      "\n",
      "Column: HOUSING STARTS\n",
      "Result: Not White Noise\n",
      "\n",
      "Column: EXISTING HOME SALES\n",
      "Result: Not White Noise\n",
      "\n",
      "Column: CONSUMER CONFIDENCE INDEX\n",
      "Result: Not White Noise\n",
      "\n",
      "Column: HOUSING CREDIT AVAILABILITY INDEX\n",
      "Result: Not White Noise\n",
      "\n",
      "Column: INTEREST RATE POLICY RATE\n",
      "Result: Not White Noise\n",
      "\n",
      "Column: HOME PRICE INDEX\n",
      "Result: Not White Noise\n",
      "\n"
     ]
    },
    {
     "name": "stderr",
     "output_type": "stream",
     "text": [
      "C:\\Users\\sudha\\AppData\\Local\\Temp\\ipykernel_16276\\2046370307.py:7: FutureWarning: In a future version of pandas all arguments of DataFrame.drop except for the argument 'labels' will be keyword-only.\n",
      "  for col in df.drop(['MONTH '],1):\n"
     ]
    }
   ],
   "source": [
    "lags = 24\n",
    "\n",
    "# Define a significance level (e.g., 0.05)\n",
    "significance_level = 0.05\n",
    "\n",
    "# Loop through each column and perform the Box-Ljung test\n",
    "for col in df.drop(['MONTH '],1):\n",
    "    # Extract the data from the selected column\n",
    "    data = df[col]\n",
    "    \n",
    "    # Perform the Box-Ljung test\n",
    "    lb_results = acorr_ljungbox(data, lags=lags, return_df=True)\n",
    "    \n",
    "    # Check if all p-values are greater than the significance level\n",
    "    if (lb_results['lb_pvalue'] > significance_level).all():\n",
    "        result = \"White Noise\"\n",
    "    else:\n",
    "        result = \"Not White Noise\"\n",
    "    \n",
    "    # Print the results for each column\n",
    "    print(f\"Column: {col}\")\n",
    "    print(f\"Result: {result}\\n\")"
   ]
  },
  {
   "cell_type": "code",
   "execution_count": null,
   "id": "b89a5a7b",
   "metadata": {},
   "outputs": [],
   "source": []
  },
  {
   "cell_type": "code",
   "execution_count": null,
   "id": "fa9c249c",
   "metadata": {},
   "outputs": [],
   "source": []
  }
 ],
 "metadata": {
  "kernelspec": {
   "display_name": "Python 3 (ipykernel)",
   "language": "python",
   "name": "python3"
  },
  "language_info": {
   "codemirror_mode": {
    "name": "ipython",
    "version": 3
   },
   "file_extension": ".py",
   "mimetype": "text/x-python",
   "name": "python",
   "nbconvert_exporter": "python",
   "pygments_lexer": "ipython3",
   "version": "3.9.13"
  }
 },
 "nbformat": 4,
 "nbformat_minor": 5
}
